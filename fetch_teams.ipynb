{
 "cells": [
  {
   "cell_type": "code",
   "execution_count": 1,
   "id": "382b1396-7ec6-4ff7-abfe-88af1759ca8d",
   "metadata": {},
   "outputs": [],
   "source": [
    "import numpy as np\n",
    "import pandas as pd\n",
    "import os\n",
    "import datetime as dt\n",
    "\n",
    "import warnings\n",
    "warnings.filterwarnings(\"ignore\")"
   ]
  },
  {
   "cell_type": "code",
   "execution_count": 2,
   "id": "d8bac79d-4eb3-49c5-953f-e5df143a63a1",
   "metadata": {},
   "outputs": [],
   "source": [
    "from f1_elo.team_season import generate_team_season_combos_and_init_team_ratings"
   ]
  },
  {
   "cell_type": "code",
   "execution_count": 3,
   "id": "de3447a3-02d3-4538-bcc3-15a9ffc47d97",
   "metadata": {},
   "outputs": [],
   "source": [
    "settings = {\n",
    "    'games_list_path': 'data/listing.csv',\n",
    "    'output_team_season_path': 'files/team_season.csv',\n",
    "    'first_season_path': 'files/elo_rating.csv',\n",
    "}"
   ]
  },
  {
   "cell_type": "code",
   "execution_count": 4,
   "id": "7925376e-af94-44b1-99a4-c3510f458d5c",
   "metadata": {},
   "outputs": [],
   "source": [
    "generate_team_season_combos_and_init_team_ratings(**settings)"
   ]
  },
  {
   "cell_type": "code",
   "execution_count": null,
   "id": "b8323d36-282a-40c5-8ad0-85fe016d8d59",
   "metadata": {},
   "outputs": [],
   "source": []
  }
 ],
 "metadata": {
  "kernelspec": {
   "display_name": "Python [conda env:base] *",
   "language": "python",
   "name": "conda-base-py"
  },
  "language_info": {
   "codemirror_mode": {
    "name": "ipython",
    "version": 3
   },
   "file_extension": ".py",
   "mimetype": "text/x-python",
   "name": "python",
   "nbconvert_exporter": "python",
   "pygments_lexer": "ipython3",
   "version": "3.12.7"
  }
 },
 "nbformat": 4,
 "nbformat_minor": 5
}
